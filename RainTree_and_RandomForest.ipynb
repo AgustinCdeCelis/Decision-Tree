{
  "nbformat": 4,
  "nbformat_minor": 0,
  "metadata": {
    "colab": {
      "name": "RainTree and RandomForest.ipynb",
      "provenance": [],
      "authorship_tag": "ABX9TyMMsy1shXQX7FqRTItcKtM/",
      "include_colab_link": true
    },
    "kernelspec": {
      "name": "python3",
      "display_name": "Python 3"
    },
    "language_info": {
      "name": "python"
    }
  },
  "cells": [
    {
      "cell_type": "markdown",
      "metadata": {
        "id": "view-in-github",
        "colab_type": "text"
      },
      "source": [
        "<a href=\"https://colab.research.google.com/github/AgustinCdeCelis/Decision-Tree/blob/main/RainTree_and_RandomForest.ipynb\" target=\"_parent\"><img src=\"https://colab.research.google.com/assets/colab-badge.svg\" alt=\"Open In Colab\"/></a>"
      ]
    },
    {
      "cell_type": "code",
      "execution_count": null,
      "metadata": {
        "id": "wVfFc8MvadKy"
      },
      "outputs": [],
      "source": [
        "import numpy as np\n",
        "import pandas as pd\n",
        "import matplotlib.pyplot as plt\n",
        "import seaborn as sns\n",
        "import plotly.express as px\n",
        "import matplotlib\n",
        "%matplotlib inline"
      ]
    },
    {
      "cell_type": "code",
      "source": [
        "link = 'https://raw.githubusercontent.com/AgustinCdeCelis/Decision-Tree/main/weatherAUS.csv'"
      ],
      "metadata": {
        "id": "DSyIwarCbUhx"
      },
      "execution_count": null,
      "outputs": []
    },
    {
      "cell_type": "code",
      "source": [
        "raintree_df = pd.read_csv(link)"
      ],
      "metadata": {
        "id": "cLSlQDA_bMQk"
      },
      "execution_count": null,
      "outputs": []
    },
    {
      "cell_type": "code",
      "source": [
        "sns.set_style('darkgrid')\n",
        "matplotlib.rcParams['font.size'] = 14\n",
        "matplotlib.rcParams['figure.figsize'] = 10,6\n",
        "\n"
      ],
      "metadata": {
        "id": "qfomCMf6bjNg"
      },
      "execution_count": null,
      "outputs": []
    },
    {
      "cell_type": "code",
      "source": [
        "raintree_df.head(5)"
      ],
      "metadata": {
        "id": "ZPJkC1GGmz-p"
      },
      "execution_count": null,
      "outputs": []
    },
    {
      "cell_type": "code",
      "source": [
        "raintree_df.info()"
      ],
      "metadata": {
        "id": "Dx73VskDcZWw"
      },
      "execution_count": null,
      "outputs": []
    },
    {
      "cell_type": "markdown",
      "source": [
        "Eliminando las filas de Null Values de Rain Tomorrow"
      ],
      "metadata": {
        "id": "zWNMIMN5mFTc"
      }
    },
    {
      "cell_type": "code",
      "source": [
        "raintree_df.dropna(subset=['RainTomorrow'],inplace=True)"
      ],
      "metadata": {
        "id": "lC4VkT0FdM5t"
      },
      "execution_count": null,
      "outputs": []
    },
    {
      "cell_type": "markdown",
      "source": [
        "Vemos cómo están algunos de los features a partir de gráficos"
      ],
      "metadata": {
        "id": "REytQWCAmNTW"
      }
    },
    {
      "cell_type": "code",
      "source": [
        "fig = px.histogram(raintree_df,x='MaxTemp',marginal ='box',color='RainTomorrow',color_discrete_sequence=['blue','green'],title='Max Temp and Rain Tomorrow')\n",
        "fig.update_layout(bargap =0.1)\n",
        "fig.show()\n",
        "#Max Temp"
      ],
      "metadata": {
        "id": "YntFBWsimSej"
      },
      "execution_count": null,
      "outputs": []
    },
    {
      "cell_type": "code",
      "source": [
        "fig = px.histogram(raintree_df,x= 'RainToday',color='RainTomorrow',color_discrete_sequence=['darkgreen','lightgreen'],title='Rain Today and Rain Tomorrow')\n",
        "fig.update_layout(bargap=0.1)\n",
        "fig.show()"
      ],
      "metadata": {
        "id": "rQ6zhadbv34g"
      },
      "execution_count": null,
      "outputs": []
    },
    {
      "cell_type": "code",
      "source": [
        "fig=px.histogram(raintree_df,x='Humidity3pm',marginal='box',color='RainTomorrow',title='3pm Humidity and Rain Tomorrow')\n",
        "fig.update_layout(bargap=0.1)\n",
        "fig.show()\n"
      ],
      "metadata": {
        "id": "C4IH3UEY32IJ"
      },
      "execution_count": null,
      "outputs": []
    },
    {
      "cell_type": "markdown",
      "source": [
        "**Train Test Split:**\n",
        "\n",
        "\n",
        "1.   Train_df\n",
        "2.   Val_df\n",
        "3.   Test_df\n"
      ],
      "metadata": {
        "id": "U9UVwVw2I88Y"
      }
    },
    {
      "cell_type": "code",
      "source": [
        "raintree_df['year'] =pd.to_datetime(raintree_df['Date']).dt.year"
      ],
      "metadata": {
        "id": "v68aRVedj960"
      },
      "execution_count": null,
      "outputs": []
    },
    {
      "cell_type": "code",
      "source": [
        "matplotlib.rcParams['figure.figsize'] = 16,6\n",
        "plt.title('Valores Anuales en el Dataset')\n",
        "sns.countplot(data=raintree_df,x='year',palette='crest');"
      ],
      "metadata": {
        "id": "s2D8ojYvl-Tc"
      },
      "execution_count": null,
      "outputs": []
    },
    {
      "cell_type": "code",
      "source": [
        "from sklearn.model_selection import train_test_split\n",
        "#Usamos este método en vez de seleccionar anualmente"
      ],
      "metadata": {
        "id": "eNnmSOSPrXO8"
      },
      "execution_count": null,
      "outputs": []
    },
    {
      "cell_type": "code",
      "source": [
        "train_val_df , test_df = train_test_split(raintree_df,test_size=0.2, random_state=42)\n",
        "train_df , val_df =train_test_split(train_val_df,test_size=0.25 , random_state=42)"
      ],
      "metadata": {
        "id": "72-JED2Ks5s7"
      },
      "execution_count": null,
      "outputs": []
    },
    {
      "cell_type": "code",
      "source": [
        "print(train_df.shape)\n",
        "print(val_df.shape)\n",
        "print(test_df.shape)"
      ],
      "metadata": {
        "id": "y_ceC0RhthVT"
      },
      "execution_count": null,
      "outputs": []
    },
    {
      "cell_type": "markdown",
      "source": [
        "**Select Features and Target**"
      ],
      "metadata": {
        "id": "zdtDdlsZuiI0"
      }
    },
    {
      "cell_type": "code",
      "source": [
        "input_column = list(train_df.columns)[1:-2]\n"
      ],
      "metadata": {
        "id": "q2p3CUBBumjU"
      },
      "execution_count": null,
      "outputs": []
    },
    {
      "cell_type": "code",
      "source": [
        "target_column = 'RainTomorrow'"
      ],
      "metadata": {
        "id": "uyC61K3h5dCS"
      },
      "execution_count": null,
      "outputs": []
    },
    {
      "cell_type": "code",
      "source": [
        "train_input= train_df[input_column].copy()\n",
        "train_target= train_df[target_column].copy()"
      ],
      "metadata": {
        "id": "bWO56JjA3Cyb"
      },
      "execution_count": null,
      "outputs": []
    },
    {
      "cell_type": "code",
      "source": [
        "val_input = val_df[input_column].copy()\n",
        "val_target = val_df[target_column].copy()"
      ],
      "metadata": {
        "id": "Fa4cUp5H_9aj"
      },
      "execution_count": null,
      "outputs": []
    },
    {
      "cell_type": "code",
      "source": [
        "test_input = test_df[input_column].copy()\n",
        "test_target= test_df[target_column].copy()"
      ],
      "metadata": {
        "id": "hfpz6zNfAJl8"
      },
      "execution_count": null,
      "outputs": []
    },
    {
      "cell_type": "markdown",
      "source": [
        "**SELECT Numeric and Categorical Features**"
      ],
      "metadata": {
        "id": "Gr-hsRm-Ddn7"
      }
    },
    {
      "cell_type": "code",
      "source": [
        "train_input"
      ],
      "metadata": {
        "id": "8XvItchNFEeq"
      },
      "execution_count": null,
      "outputs": []
    },
    {
      "cell_type": "code",
      "source": [
        "numeric_cols = train_input.select_dtypes(include=np.number).columns.tolist()"
      ],
      "metadata": {
        "id": "OIoRa7_mEN_D"
      },
      "execution_count": null,
      "outputs": []
    },
    {
      "cell_type": "code",
      "source": [
        "numeric_cols"
      ],
      "metadata": {
        "id": "Zxefvx5RIUCT"
      },
      "execution_count": null,
      "outputs": []
    },
    {
      "cell_type": "code",
      "source": [
        "categorical_cols = train_input.select_dtypes(include='object').columns.tolist()\n",
        "categorical_cols"
      ],
      "metadata": {
        "id": "dLHjYDB9HTEC"
      },
      "execution_count": null,
      "outputs": []
    },
    {
      "cell_type": "markdown",
      "source": [
        "**Imputing Missing  Values from numeric Cols**"
      ],
      "metadata": {
        "id": "CWHSQFBTJQ1i"
      }
    },
    {
      "cell_type": "code",
      "source": [
        "from sklearn.impute import SimpleImputer"
      ],
      "metadata": {
        "id": "0iXI6mviJVCp"
      },
      "execution_count": null,
      "outputs": []
    },
    {
      "cell_type": "code",
      "source": [
        "imputer = SimpleImputer(strategy='mean').fit(raintree_df[numeric_cols])"
      ],
      "metadata": {
        "id": "QNKU6atlLG2b"
      },
      "execution_count": null,
      "outputs": []
    },
    {
      "cell_type": "code",
      "source": [
        "train_input[numeric_cols] = imputer.transform(train_input[numeric_cols])\n",
        "val_input[numeric_cols]   = imputer.transform(val_input[numeric_cols])\n",
        "test_input[numeric_cols]  =imputer.transform(test_input[numeric_cols])"
      ],
      "metadata": {
        "id": "rSAORU11M25C"
      },
      "execution_count": null,
      "outputs": []
    },
    {
      "cell_type": "code",
      "source": [
        "train_input[numeric_cols].isna().sum()"
      ],
      "metadata": {
        "id": "NRDCy21VOPmz"
      },
      "execution_count": null,
      "outputs": []
    },
    {
      "cell_type": "markdown",
      "source": [
        "**Scaling numeric values**"
      ],
      "metadata": {
        "id": "XyKzBOk7PNq9"
      }
    },
    {
      "cell_type": "code",
      "source": [
        "from sklearn.preprocessing import MinMaxScaler"
      ],
      "metadata": {
        "id": "12-ud0lcYMtV"
      },
      "execution_count": null,
      "outputs": []
    },
    {
      "cell_type": "code",
      "source": [
        "scaler =MinMaxScaler()"
      ],
      "metadata": {
        "id": "6mMHe3wHYgIa"
      },
      "execution_count": null,
      "outputs": []
    },
    {
      "cell_type": "code",
      "source": [
        "scaler.fit(raintree_df[numeric_cols])"
      ],
      "metadata": {
        "id": "1Nn2wJt9YtuC"
      },
      "execution_count": null,
      "outputs": []
    },
    {
      "cell_type": "code",
      "source": [
        "print(\"the Max Values \",scaler.data_max_)\n",
        "print(\"the Min Values \",scaler.data_min_)"
      ],
      "metadata": {
        "id": "XvLzImyRZRtj"
      },
      "execution_count": null,
      "outputs": []
    },
    {
      "cell_type": "code",
      "source": [
        "train_input[numeric_cols]=scaler.transform(train_input[numeric_cols])\n",
        "val_input[numeric_cols]  =scaler.transform(val_input[numeric_cols])\n",
        "test_input[numeric_cols] =scaler.transform(test_input[numeric_cols])"
      ],
      "metadata": {
        "id": "LirzpEDFcwbj"
      },
      "execution_count": null,
      "outputs": []
    },
    {
      "cell_type": "code",
      "source": [
        "train_input.describe().loc[['min','max']]"
      ],
      "metadata": {
        "id": "VhuMGJNcdWc7"
      },
      "execution_count": null,
      "outputs": []
    },
    {
      "cell_type": "code",
      "source": [
        "val_input.describe().loc[['min', 'max']]"
      ],
      "metadata": {
        "id": "goNLzLHYHxOT"
      },
      "execution_count": null,
      "outputs": []
    },
    {
      "cell_type": "markdown",
      "source": [
        "**OneHotEncoder Categorical Values**"
      ],
      "metadata": {
        "id": "3H3rB9dajgX7"
      }
    },
    {
      "cell_type": "code",
      "source": [
        "from sklearn.preprocessing import OneHotEncoder"
      ],
      "metadata": {
        "id": "k99vGViHjkxC"
      },
      "execution_count": null,
      "outputs": []
    },
    {
      "cell_type": "code",
      "source": [
        "enc = OneHotEncoder(sparse=False,handle_unknown='ignore')"
      ],
      "metadata": {
        "id": "735t4t4jj-AC"
      },
      "execution_count": null,
      "outputs": []
    },
    {
      "cell_type": "code",
      "source": [
        "enc.fit(raintree_df[categorical_cols])"
      ],
      "metadata": {
        "id": "1mYMwZLnnEFj"
      },
      "execution_count": null,
      "outputs": []
    },
    {
      "cell_type": "code",
      "source": [
        "enc.categories_"
      ],
      "metadata": {
        "id": "n0TJek1GoVa7"
      },
      "execution_count": null,
      "outputs": []
    },
    {
      "cell_type": "code",
      "source": [
        "encoded_cols=enc.get_feature_names(categorical_cols)"
      ],
      "metadata": {
        "id": "i2L7Wr63oFhW"
      },
      "execution_count": null,
      "outputs": []
    },
    {
      "cell_type": "code",
      "source": [
        "train_input[encoded_cols]= enc.transform(train_input[categorical_cols])\n",
        "val_input[encoded_cols]  =enc.transform(val_input[categorical_cols])\n",
        "test_input[encoded_cols] = enc.transform(test_input[categorical_cols])"
      ],
      "metadata": {
        "id": "IUH1ArIJj7Uf"
      },
      "execution_count": null,
      "outputs": []
    },
    {
      "cell_type": "markdown",
      "source": [
        "**Concatenate the Encoded Cols with the numeric cols**"
      ],
      "metadata": {
        "id": "Ma2xp0TY3-RR"
      }
    },
    {
      "cell_type": "code",
      "source": [
        "x_train = pd.concat([train_input[encoded_cols],train_input[numeric_cols]],axis=1)"
      ],
      "metadata": {
        "id": "h8Fq6XGyWzzf"
      },
      "execution_count": null,
      "outputs": []
    },
    {
      "cell_type": "code",
      "source": [
        "x_val = pd.concat([val_input[encoded_cols],val_input[numeric_cols]],axis=1)"
      ],
      "metadata": {
        "id": "4oHCb8b4sXr2"
      },
      "execution_count": null,
      "outputs": []
    },
    {
      "cell_type": "code",
      "source": [
        "x_test = pd.concat([test_input[encoded_cols],test_input[numeric_cols]],axis=1)"
      ],
      "metadata": {
        "id": "DzABKItdZSWH"
      },
      "execution_count": null,
      "outputs": []
    },
    {
      "cell_type": "code",
      "source": [
        "x_train\n",
        "#The Dataframe"
      ],
      "metadata": {
        "id": "ugXnYKEtKpXq"
      },
      "execution_count": null,
      "outputs": []
    },
    {
      "cell_type": "markdown",
      "source": [
        "**The Machine Learning Model**"
      ],
      "metadata": {
        "id": "A2yJzvVW4Imy"
      }
    },
    {
      "cell_type": "code",
      "source": [
        "from sklearn.tree import DecisionTreeClassifier"
      ],
      "metadata": {
        "id": "5-eWewdWcPnw"
      },
      "execution_count": null,
      "outputs": []
    },
    {
      "cell_type": "code",
      "source": [
        "model = DecisionTreeClassifier(random_state=42)"
      ],
      "metadata": {
        "id": "Oegx7BVxcWTN"
      },
      "execution_count": null,
      "outputs": []
    },
    {
      "cell_type": "code",
      "source": [
        "%%time\n",
        "model.fit(x_train,train_target)"
      ],
      "metadata": {
        "id": "JOK5ZO04cgMf"
      },
      "execution_count": null,
      "outputs": []
    },
    {
      "cell_type": "code",
      "source": [
        "train_pred= model.predict(x_train)\n",
        "train_pred"
      ],
      "metadata": {
        "id": "jnGhNvDcekWo"
      },
      "execution_count": null,
      "outputs": []
    },
    {
      "cell_type": "code",
      "source": [
        "from sklearn.metrics import accuracy_score\n",
        "#Check the model accuracy"
      ],
      "metadata": {
        "id": "gmql3scYe76d"
      },
      "execution_count": null,
      "outputs": []
    },
    {
      "cell_type": "code",
      "source": [
        "print(\"the model accuracy is \",accuracy_score( train_target,train_pred))\n"
      ],
      "metadata": {
        "id": "XwWlNi1SfCRx"
      },
      "execution_count": null,
      "outputs": []
    },
    {
      "cell_type": "code",
      "source": [
        "train_prob = model.predict_proba(x_train)\n",
        "train_prob"
      ],
      "metadata": {
        "id": "YsGX6R-3fCBV"
      },
      "execution_count": null,
      "outputs": []
    },
    {
      "cell_type": "markdown",
      "source": [
        "**Ahora checkear la predicción, y la accuracy del val model**"
      ],
      "metadata": {
        "id": "izsKr9pWhB6g"
      }
    },
    {
      "cell_type": "code",
      "source": [
        "model.fit(x_val,val_target)"
      ],
      "metadata": {
        "id": "k0Map3uShMMy"
      },
      "execution_count": null,
      "outputs": []
    },
    {
      "cell_type": "code",
      "source": [
        "val_pred = model.predict(x_val)"
      ],
      "metadata": {
        "id": "FWO9DKJGh1mW"
      },
      "execution_count": null,
      "outputs": []
    },
    {
      "cell_type": "code",
      "source": [
        "accuracy_score(val_target, val_pred)"
      ],
      "metadata": {
        "id": "FCwpU-zMiVgX"
      },
      "execution_count": null,
      "outputs": []
    },
    {
      "cell_type": "code",
      "source": [
        "val_target.value_counts() / len(val_target)"
      ],
      "metadata": {
        "id": "A2vn0DSdjRYL"
      },
      "execution_count": null,
      "outputs": []
    },
    {
      "cell_type": "code",
      "source": [
        "#Otra forma de hacerlo mas rápido\n",
        "model.score(x_val,val_target)"
      ],
      "metadata": {
        "id": "9cql4iahjjez"
      },
      "execution_count": null,
      "outputs": []
    },
    {
      "cell_type": "markdown",
      "source": [
        "**Checkeando validation Score del Test set**"
      ],
      "metadata": {
        "id": "668i_cLYj9-P"
      }
    },
    {
      "cell_type": "code",
      "source": [
        "model.score(x_test, test_target)"
      ],
      "metadata": {
        "id": "wqn8fl4rjywU"
      },
      "execution_count": null,
      "outputs": []
    },
    {
      "cell_type": "code",
      "source": [
        "test_target. value_counts() / len(test_target)"
      ],
      "metadata": {
        "id": "DEhv0qfZj9Q5"
      },
      "execution_count": null,
      "outputs": []
    },
    {
      "cell_type": "markdown",
      "source": [
        "**Visualización del modelo**"
      ],
      "metadata": {
        "id": "Qu-G3eU_nzb2"
      }
    },
    {
      "cell_type": "code",
      "source": [
        "from sklearn.tree import plot_tree, export_text"
      ],
      "metadata": {
        "id": "ACW_D_CYn1UO"
      },
      "execution_count": null,
      "outputs": []
    },
    {
      "cell_type": "code",
      "source": [
        "matplotlib.rcParams['figure.figsize']=100,12\n",
        "plot_tree(model,feature_names=x_train.columns, max_depth=3,filled=True);"
      ],
      "metadata": {
        "id": "GRQxETJdoYsd"
      },
      "execution_count": null,
      "outputs": []
    },
    {
      "cell_type": "code",
      "source": [
        "model.tree_.max_depth"
      ],
      "metadata": {
        "id": "HgStRFeo62si"
      },
      "execution_count": null,
      "outputs": []
    },
    {
      "cell_type": "code",
      "source": [
        "matplotlib.rcParams['figure.figsize']=160,12\n",
        "text_tree = export_text(model, feature_names= list(x_train.columns),max_depth=12)\n",
        "print(text_tree[:5000])"
      ],
      "metadata": {
        "id": "Zx3u2ovbCO8Q"
      },
      "execution_count": null,
      "outputs": []
    },
    {
      "cell_type": "code",
      "source": [
        "list(x_train.columns)"
      ],
      "metadata": {
        "id": "NFfukpsTZKMh"
      },
      "execution_count": null,
      "outputs": []
    },
    {
      "cell_type": "code",
      "source": [
        "model.feature_importances_\n"
      ],
      "metadata": {
        "id": "ZHdv8Yz3XjTv"
      },
      "execution_count": null,
      "outputs": []
    },
    {
      "cell_type": "markdown",
      "source": [
        "**The Feature importance DataFrame**"
      ],
      "metadata": {
        "id": "WQcfSoyL4hwi"
      }
    },
    {
      "cell_type": "code",
      "source": [
        "importance_df = pd.DataFrame({\"feature\" : x_train.columns, \"importance\" : model.feature_importances_ }).sort_values(\"importance\",ascending=False)"
      ],
      "metadata": {
        "id": "v2XNQY0BZgUR"
      },
      "execution_count": null,
      "outputs": []
    },
    {
      "cell_type": "code",
      "source": [
        "importance_df"
      ],
      "metadata": {
        "id": "pZwqxruDddFE"
      },
      "execution_count": null,
      "outputs": []
    },
    {
      "cell_type": "code",
      "source": [
        "plt.title('Feature importance')\n",
        "matplotlib.rcParams['figure.figsize']=8,5\n",
        "sns.barplot(data=importance_df.head(10),x=\"importance\",y=\"feature\");"
      ],
      "metadata": {
        "id": "XHaiRATod-iy"
      },
      "execution_count": null,
      "outputs": []
    },
    {
      "cell_type": "code",
      "source": [
        "def max_depth_error(md):\n",
        "    model = DecisionTreeClassifier(max_depth= md, random_state= 42)\n",
        "    model. fit(x_train, train_target)\n",
        "    train_error = 1 - model.score(x_train, train_target)\n",
        "    val_error   = 1 - model.score(x_val, val_target)\n",
        "    test_error = 1 - model.score(x_test, test_target)\n",
        "    return {'max depth': md, 'training error': train_error, 'validation error': val_error, 'test error': test_error}"
      ],
      "metadata": {
        "id": "53VfxpdtbV3T"
      },
      "execution_count": null,
      "outputs": []
    },
    {
      "cell_type": "code",
      "source": [
        "%%time\n",
        "error_df = pd.DataFrame([max_depth_error(md) for md in range(1,21)])"
      ],
      "metadata": {
        "id": "LRpY4qGPeLRK"
      },
      "execution_count": null,
      "outputs": []
    },
    {
      "cell_type": "code",
      "source": [
        "error_df"
      ],
      "metadata": {
        "id": "2anzgam8fImh"
      },
      "execution_count": null,
      "outputs": []
    },
    {
      "cell_type": "code",
      "source": [
        "plt.plot(error_df['max depth'], error_df['training error'] )\n",
        "plt.plot(error_df['max depth'], error_df['validation error'])\n",
        "plt.plot(error_df['max depth'], error_df['test error']);"
      ],
      "metadata": {
        "id": "F-JAyY3opzCo"
      },
      "execution_count": null,
      "outputs": []
    },
    {
      "cell_type": "markdown",
      "source": [
        "Como se puede observar en el gráfico y en el cuadro, el nivel de max depth adecuado para poder generalizar el modelo con el nivel más bajo de error es el nivel 7 de profundidad del modelo. **Regularize the overfitting**"
      ],
      "metadata": {
        "id": "gN_U8Xelstkv"
      }
    },
    {
      "cell_type": "code",
      "source": [
        "model = DecisionTreeClassifier(max_depth= 7, random_state= 42).fit(x_train,train_target)"
      ],
      "metadata": {
        "id": "Q2I5-eBstaAA"
      },
      "execution_count": null,
      "outputs": []
    },
    {
      "cell_type": "code",
      "source": [
        "model.score(x_train,train_target) , model.score(x_val,val_target)\n",
        "#Compare both Scores, but i´ve to check with fitting different"
      ],
      "metadata": {
        "id": "rxP5ChG9t2Ai"
      },
      "execution_count": null,
      "outputs": []
    },
    {
      "cell_type": "markdown",
      "source": [
        "**Random Forest**"
      ],
      "metadata": {
        "id": "pkG1x8nCD94c"
      }
    },
    {
      "cell_type": "code",
      "source": [
        "from sklearn.ensemble import RandomForestClassifier\n"
      ],
      "metadata": {
        "id": "taKQGXchEAzU"
      },
      "execution_count": null,
      "outputs": []
    },
    {
      "cell_type": "code",
      "source": [
        "model = RandomForestClassifier(n_jobs=-1, random_state= 42)"
      ],
      "metadata": {
        "id": "h_788J5mEa7c"
      },
      "execution_count": null,
      "outputs": []
    },
    {
      "cell_type": "code",
      "source": [
        "model.fit(x_train,train_target)"
      ],
      "metadata": {
        "id": "4rIFIaI0GZKT"
      },
      "execution_count": null,
      "outputs": []
    },
    {
      "cell_type": "code",
      "source": [
        "print(\"the model accuracy \",model.score(x_train,train_target))\n",
        "print(\"the model accuracy \",model.score(x_val , val_target))\n",
        "print(\"the model accuracy \", model.score(x_test, test_target))"
      ],
      "metadata": {
        "id": "cy8B48pAGqYz"
      },
      "execution_count": null,
      "outputs": []
    },
    {
      "cell_type": "code",
      "source": [
        "model.predict(x_train)"
      ],
      "metadata": {
        "id": "ayDYAmki6IIB"
      },
      "execution_count": null,
      "outputs": []
    },
    {
      "cell_type": "code",
      "source": [
        "model.predict_proba(x_train)"
      ],
      "metadata": {
        "id": "XK0UEt0W6N8R"
      },
      "execution_count": null,
      "outputs": []
    },
    {
      "cell_type": "code",
      "source": [
        "print(\"cantidad de decision trees:\" ,len(model.estimators_))"
      ],
      "metadata": {
        "id": "OWlPCnrX6sZy"
      },
      "execution_count": null,
      "outputs": []
    },
    {
      "cell_type": "code",
      "source": [
        "model.estimators_[50].get_params"
      ],
      "metadata": {
        "id": "tJuHD3Wv7Q4q"
      },
      "execution_count": null,
      "outputs": []
    },
    {
      "cell_type": "code",
      "source": [
        "matplotlib.rcParams['figure.figsize'] = 80,20\n",
        "plot_tree(model.estimators_[0],max_depth=3,feature_names=x_train.columns,filled=True,rounded=True );"
      ],
      "metadata": {
        "id": "tZjehEag8HzZ"
      },
      "execution_count": null,
      "outputs": []
    },
    {
      "cell_type": "code",
      "source": [
        "matplotlib.rcParams['figure.figsize'] = 80,20\n",
        "plot_tree(model.estimators_[20],max_depth=3,feature_names=x_train.columns,filled=True,rounded=True );"
      ],
      "metadata": {
        "id": "0BFA7TLe97sQ"
      },
      "execution_count": null,
      "outputs": []
    },
    {
      "cell_type": "code",
      "source": [
        "importance_df = pd.DataFrame({'feature': x_train.columns, 'importance': model.feature_importances_}).sort_values('importance',ascending=False)\n",
        "importance_df.head(10)"
      ],
      "metadata": {
        "id": "mTaplJKUB1U1"
      },
      "execution_count": null,
      "outputs": []
    },
    {
      "cell_type": "code",
      "source": [
        "matplotlib.rcParams['figure.figsize'] = 12,6\n",
        "sns.barplot(data=importance_df.head(10), x= 'importance', y='feature');"
      ],
      "metadata": {
        "id": "NSYcG8RlFXkE"
      },
      "execution_count": null,
      "outputs": []
    },
    {
      "cell_type": "code",
      "source": [
        "def random_forest(num): \n",
        "    model = RandomForestClassifier(random_state=42, n_jobs=-1,n_estimators=num )\n",
        "    model.fit(x_train,train_target)\n",
        "    train_error =1-model.score(x_train,train_target)\n",
        "    val_error   =1-model.score(x_val,val_target)\n",
        "    test_error  =1-model.score(x_test, test_target)\n",
        "    return {'num estimators':num, 'train error':train_error, 'validation error' : val_error, 'test error' : test_error}"
      ],
      "metadata": {
        "id": "d5zSb3ELJtH0"
      },
      "execution_count": null,
      "outputs": []
    },
    {
      "cell_type": "code",
      "source": [
        "%%time\n",
        "error_df = pd.DataFrame([random_forest(num) for num in range(50,60)])"
      ],
      "metadata": {
        "id": "X49tbDXoM7jA",
        "colab": {
          "base_uri": "https://localhost:8080/"
        },
        "outputId": "1b76939d-4523-4cce-ad25-58367c1364b0"
      },
      "execution_count": 93,
      "outputs": [
        {
          "output_type": "stream",
          "name": "stdout",
          "text": [
            "CPU times: user 4min 35s, sys: 1.89 s, total: 4min 37s\n",
            "Wall time: 2min 45s\n"
          ]
        }
      ]
    },
    {
      "cell_type": "code",
      "source": [
        "error_df"
      ],
      "metadata": {
        "id": "e3rysTryRQBw",
        "colab": {
          "base_uri": "https://localhost:8080/",
          "height": 363
        },
        "outputId": "16fb1f87-2972-4af7-cce2-a0f1074f352f"
      },
      "execution_count": 94,
      "outputs": [
        {
          "output_type": "execute_result",
          "data": {
            "text/plain": [
              "   num estimators  train error  validation error  test error\n",
              "0              50     0.000340          0.145118    0.149654\n",
              "1              51     0.000199          0.144485    0.149337\n",
              "2              52     0.000328          0.144801    0.149267\n",
              "3              53     0.000188          0.144696    0.149197\n",
              "4              54     0.000246          0.144836    0.149689\n",
              "5              55     0.000152          0.144801    0.148986\n",
              "6              56     0.000258          0.144133    0.149197\n",
              "7              57     0.000152          0.144696    0.148950\n",
              "8              58     0.000234          0.144344    0.149232\n",
              "9              59     0.000164          0.144098    0.148845"
            ],
            "text/html": [
              "\n",
              "  <div id=\"df-ebb8abf0-ccb9-4dd2-9828-55bfc1ce5cf9\">\n",
              "    <div class=\"colab-df-container\">\n",
              "      <div>\n",
              "<style scoped>\n",
              "    .dataframe tbody tr th:only-of-type {\n",
              "        vertical-align: middle;\n",
              "    }\n",
              "\n",
              "    .dataframe tbody tr th {\n",
              "        vertical-align: top;\n",
              "    }\n",
              "\n",
              "    .dataframe thead th {\n",
              "        text-align: right;\n",
              "    }\n",
              "</style>\n",
              "<table border=\"1\" class=\"dataframe\">\n",
              "  <thead>\n",
              "    <tr style=\"text-align: right;\">\n",
              "      <th></th>\n",
              "      <th>num estimators</th>\n",
              "      <th>train error</th>\n",
              "      <th>validation error</th>\n",
              "      <th>test error</th>\n",
              "    </tr>\n",
              "  </thead>\n",
              "  <tbody>\n",
              "    <tr>\n",
              "      <th>0</th>\n",
              "      <td>50</td>\n",
              "      <td>0.000340</td>\n",
              "      <td>0.145118</td>\n",
              "      <td>0.149654</td>\n",
              "    </tr>\n",
              "    <tr>\n",
              "      <th>1</th>\n",
              "      <td>51</td>\n",
              "      <td>0.000199</td>\n",
              "      <td>0.144485</td>\n",
              "      <td>0.149337</td>\n",
              "    </tr>\n",
              "    <tr>\n",
              "      <th>2</th>\n",
              "      <td>52</td>\n",
              "      <td>0.000328</td>\n",
              "      <td>0.144801</td>\n",
              "      <td>0.149267</td>\n",
              "    </tr>\n",
              "    <tr>\n",
              "      <th>3</th>\n",
              "      <td>53</td>\n",
              "      <td>0.000188</td>\n",
              "      <td>0.144696</td>\n",
              "      <td>0.149197</td>\n",
              "    </tr>\n",
              "    <tr>\n",
              "      <th>4</th>\n",
              "      <td>54</td>\n",
              "      <td>0.000246</td>\n",
              "      <td>0.144836</td>\n",
              "      <td>0.149689</td>\n",
              "    </tr>\n",
              "    <tr>\n",
              "      <th>5</th>\n",
              "      <td>55</td>\n",
              "      <td>0.000152</td>\n",
              "      <td>0.144801</td>\n",
              "      <td>0.148986</td>\n",
              "    </tr>\n",
              "    <tr>\n",
              "      <th>6</th>\n",
              "      <td>56</td>\n",
              "      <td>0.000258</td>\n",
              "      <td>0.144133</td>\n",
              "      <td>0.149197</td>\n",
              "    </tr>\n",
              "    <tr>\n",
              "      <th>7</th>\n",
              "      <td>57</td>\n",
              "      <td>0.000152</td>\n",
              "      <td>0.144696</td>\n",
              "      <td>0.148950</td>\n",
              "    </tr>\n",
              "    <tr>\n",
              "      <th>8</th>\n",
              "      <td>58</td>\n",
              "      <td>0.000234</td>\n",
              "      <td>0.144344</td>\n",
              "      <td>0.149232</td>\n",
              "    </tr>\n",
              "    <tr>\n",
              "      <th>9</th>\n",
              "      <td>59</td>\n",
              "      <td>0.000164</td>\n",
              "      <td>0.144098</td>\n",
              "      <td>0.148845</td>\n",
              "    </tr>\n",
              "  </tbody>\n",
              "</table>\n",
              "</div>\n",
              "      <button class=\"colab-df-convert\" onclick=\"convertToInteractive('df-ebb8abf0-ccb9-4dd2-9828-55bfc1ce5cf9')\"\n",
              "              title=\"Convert this dataframe to an interactive table.\"\n",
              "              style=\"display:none;\">\n",
              "        \n",
              "  <svg xmlns=\"http://www.w3.org/2000/svg\" height=\"24px\"viewBox=\"0 0 24 24\"\n",
              "       width=\"24px\">\n",
              "    <path d=\"M0 0h24v24H0V0z\" fill=\"none\"/>\n",
              "    <path d=\"M18.56 5.44l.94 2.06.94-2.06 2.06-.94-2.06-.94-.94-2.06-.94 2.06-2.06.94zm-11 1L8.5 8.5l.94-2.06 2.06-.94-2.06-.94L8.5 2.5l-.94 2.06-2.06.94zm10 10l.94 2.06.94-2.06 2.06-.94-2.06-.94-.94-2.06-.94 2.06-2.06.94z\"/><path d=\"M17.41 7.96l-1.37-1.37c-.4-.4-.92-.59-1.43-.59-.52 0-1.04.2-1.43.59L10.3 9.45l-7.72 7.72c-.78.78-.78 2.05 0 2.83L4 21.41c.39.39.9.59 1.41.59.51 0 1.02-.2 1.41-.59l7.78-7.78 2.81-2.81c.8-.78.8-2.07 0-2.86zM5.41 20L4 18.59l7.72-7.72 1.47 1.35L5.41 20z\"/>\n",
              "  </svg>\n",
              "      </button>\n",
              "      \n",
              "  <style>\n",
              "    .colab-df-container {\n",
              "      display:flex;\n",
              "      flex-wrap:wrap;\n",
              "      gap: 12px;\n",
              "    }\n",
              "\n",
              "    .colab-df-convert {\n",
              "      background-color: #E8F0FE;\n",
              "      border: none;\n",
              "      border-radius: 50%;\n",
              "      cursor: pointer;\n",
              "      display: none;\n",
              "      fill: #1967D2;\n",
              "      height: 32px;\n",
              "      padding: 0 0 0 0;\n",
              "      width: 32px;\n",
              "    }\n",
              "\n",
              "    .colab-df-convert:hover {\n",
              "      background-color: #E2EBFA;\n",
              "      box-shadow: 0px 1px 2px rgba(60, 64, 67, 0.3), 0px 1px 3px 1px rgba(60, 64, 67, 0.15);\n",
              "      fill: #174EA6;\n",
              "    }\n",
              "\n",
              "    [theme=dark] .colab-df-convert {\n",
              "      background-color: #3B4455;\n",
              "      fill: #D2E3FC;\n",
              "    }\n",
              "\n",
              "    [theme=dark] .colab-df-convert:hover {\n",
              "      background-color: #434B5C;\n",
              "      box-shadow: 0px 1px 3px 1px rgba(0, 0, 0, 0.15);\n",
              "      filter: drop-shadow(0px 1px 2px rgba(0, 0, 0, 0.3));\n",
              "      fill: #FFFFFF;\n",
              "    }\n",
              "  </style>\n",
              "\n",
              "      <script>\n",
              "        const buttonEl =\n",
              "          document.querySelector('#df-ebb8abf0-ccb9-4dd2-9828-55bfc1ce5cf9 button.colab-df-convert');\n",
              "        buttonEl.style.display =\n",
              "          google.colab.kernel.accessAllowed ? 'block' : 'none';\n",
              "\n",
              "        async function convertToInteractive(key) {\n",
              "          const element = document.querySelector('#df-ebb8abf0-ccb9-4dd2-9828-55bfc1ce5cf9');\n",
              "          const dataTable =\n",
              "            await google.colab.kernel.invokeFunction('convertToInteractive',\n",
              "                                                     [key], {});\n",
              "          if (!dataTable) return;\n",
              "\n",
              "          const docLinkHtml = 'Like what you see? Visit the ' +\n",
              "            '<a target=\"_blank\" href=https://colab.research.google.com/notebooks/data_table.ipynb>data table notebook</a>'\n",
              "            + ' to learn more about interactive tables.';\n",
              "          element.innerHTML = '';\n",
              "          dataTable['output_type'] = 'display_data';\n",
              "          await google.colab.output.renderOutput(dataTable, element);\n",
              "          const docLink = document.createElement('div');\n",
              "          docLink.innerHTML = docLinkHtml;\n",
              "          element.appendChild(docLink);\n",
              "        }\n",
              "      </script>\n",
              "    </div>\n",
              "  </div>\n",
              "  "
            ]
          },
          "metadata": {},
          "execution_count": 94
        }
      ]
    },
    {
      "cell_type": "code",
      "source": [
        "plt.plot(error_df['num estimators'],error_df['train error'])\n",
        "plt.plot(error_df['num estimators'], error_df['validation error'])\n",
        "plt.plot(error_df['num estimators'], error_df['test error'])"
      ],
      "metadata": {
        "id": "mk9lYmh7YLAa",
        "colab": {
          "base_uri": "https://localhost:8080/",
          "height": 395
        },
        "outputId": "d1f169e9-78c4-4fb5-fbb5-54e40116b751"
      },
      "execution_count": 95,
      "outputs": [
        {
          "output_type": "execute_result",
          "data": {
            "text/plain": [
              "[<matplotlib.lines.Line2D at 0x7ff87047afd0>]"
            ]
          },
          "metadata": {},
          "execution_count": 95
        },
        {
          "output_type": "display_data",
          "data": {
            "text/plain": [
              "<Figure size 864x432 with 1 Axes>"
            ],
            "image/png": "[encoded data removed]"
          },
          "metadata": {}
        }
      ]
    },
    {
      "cell_type": "markdown",
      "source": [
        "**RANDOM FOREST**"
      ],
      "metadata": {
        "id": "fUk4k8YzCe9L"
      }
    },
    {
      "cell_type": "code",
      "source": [
        "model = RandomForestClassifier(random_state= 42, n_jobs=-1,n_estimators=500)"
      ],
      "metadata": {
        "id": "GCPb7qFpr7EK"
      },
      "execution_count": 96,
      "outputs": []
    },
    {
      "cell_type": "code",
      "source": [
        "model.fit(x_train,train_target)"
      ],
      "metadata": {
        "id": "w8ggPYHNs_uO",
        "colab": {
          "base_uri": "https://localhost:8080/"
        },
        "outputId": "c0c6064f-3718-43fc-bd72-9cbc01372a89"
      },
      "execution_count": 97,
      "outputs": [
        {
          "output_type": "execute_result",
          "data": {
            "text/plain": [
              "RandomForestClassifier(n_estimators=500, n_jobs=-1, random_state=42)"
            ]
          },
          "metadata": {},
          "execution_count": 97
        }
      ]
    },
    {
      "cell_type": "markdown",
      "source": [
        "**SCORE**"
      ],
      "metadata": {
        "id": "oqg7isSOCT_N"
      }
    },
    {
      "cell_type": "code",
      "source": [
        "model.score(x_train,train_target)"
      ],
      "metadata": {
        "id": "oFB64qeOtm_P",
        "colab": {
          "base_uri": "https://localhost:8080/"
        },
        "outputId": "84f89a06-0b12-432e-9339-192468b6e67a"
      },
      "execution_count": 98,
      "outputs": [
        {
          "output_type": "execute_result",
          "data": {
            "text/plain": [
              "0.9999648361952763"
            ]
          },
          "metadata": {},
          "execution_count": 98
        }
      ]
    },
    {
      "cell_type": "code",
      "source": [
        "model.score(x_train,train_target)"
      ],
      "metadata": {
        "id": "ucr_AVNVtrle",
        "colab": {
          "base_uri": "https://localhost:8080/"
        },
        "outputId": "3640b18b-b16e-4ae6-9f82-21c81cb6445b"
      },
      "execution_count": 99,
      "outputs": [
        {
          "output_type": "execute_result",
          "data": {
            "text/plain": [
              "0.9999648361952763"
            ]
          },
          "metadata": {},
          "execution_count": 99
        }
      ]
    },
    {
      "cell_type": "markdown",
      "source": [
        "**ERROR**"
      ],
      "metadata": {
        "id": "xqZxK9LWCa_L"
      }
    },
    {
      "cell_type": "code",
      "source": [
        "1 - model.score(x_val,val_target)"
      ],
      "metadata": {
        "id": "d0JoxJBVt8el",
        "colab": {
          "base_uri": "https://localhost:8080/"
        },
        "outputId": "77cde060-d5ab-48d1-9acd-8d173599b13e"
      },
      "execution_count": 100,
      "outputs": [
        {
          "output_type": "execute_result",
          "data": {
            "text/plain": [
              "0.1445198495024438"
            ]
          },
          "metadata": {},
          "execution_count": 100
        }
      ]
    }
  ]
}